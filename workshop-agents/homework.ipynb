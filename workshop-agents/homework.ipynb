{
 "cells": [
  {
   "cell_type": "markdown",
   "id": "daca0889",
   "metadata": {},
   "source": [
    "# Workshop Agents | Homework Solution"
   ]
  },
  {
   "cell_type": "markdown",
   "id": "677b1c6a",
   "metadata": {},
   "source": [
    "### Preparation"
   ]
  },
  {
   "cell_type": "code",
   "execution_count": 1,
   "id": "fadd7705",
   "metadata": {},
   "outputs": [],
   "source": [
    "import random\n",
    "\n",
    "known_weather_data = {\n",
    "  'berlin': 20.0\n",
    "}\n",
    "\n",
    "def get_weather(city: str) -> float:\n",
    "  city = city.strip().lower()\n",
    "\n",
    "  if city in known_weather_data:\n",
    "      return known_weather_data[city]\n",
    "\n",
    "  return round(random.uniform(-5, 35), 1)"
   ]
  },
  {
   "cell_type": "markdown",
   "id": "1f09236b",
   "metadata": {},
   "source": [
    "### Q1. Define function description\n",
    "We want to use it as a tool for our agent, so we need to describe it\n",
    "\n",
    "How should the description for this function look like? Fill in missing parts\n",
    "\n",
    "What did you put in TODO3?"
   ]
  },
  {
   "cell_type": "code",
   "execution_count": null,
   "id": "2e167d16",
   "metadata": {},
   "outputs": [],
   "source": [
    "get_weather_tool = {\n",
    "  \"type\": \"function\",\n",
    "  \"name\": \"get_weather\",\n",
    "  \"description\": \"Retrieves the temperature for a specified city.\",\n",
    "  \"parameters\": {\n",
    "    \"type\": \"object\",\n",
    "    \"properties\": {\n",
    "      \"city\": {\n",
    "        \"type\": \"string\",\n",
    "        \"description\": \"The name of the city, e.g. New York\"\n",
    "      }\n",
    "    },\n",
    "    \"required\": [\"city\"],\n",
    "    \"additionalProperties\": False\n",
    "  }\n",
    "}"
   ]
  },
  {
   "cell_type": "markdown",
   "id": "0fd87b48",
   "metadata": {},
   "source": [
    "### Answer: \"\\<TODO3>\" = \"city\""
   ]
  },
  {
   "cell_type": "markdown",
   "id": "0529d5cd",
   "metadata": {},
   "source": [
    "### Q2. Adding another tool\n",
    "Let's add another tool - a function that can add weather data to our database"
   ]
  },
  {
   "cell_type": "code",
   "execution_count": 2,
   "id": "8b77c74f",
   "metadata": {},
   "outputs": [],
   "source": [
    "def set_weather(city: str, temp: float) -> None:\n",
    "  city = city.strip().lower()\n",
    "  known_weather_data[city] = temp\n",
    "  return 'OK'"
   ]
  },
  {
   "cell_type": "markdown",
   "id": "4172b770",
   "metadata": {},
   "source": [
    "### Answer:"
   ]
  },
  {
   "cell_type": "code",
   "execution_count": null,
   "id": "87212c18",
   "metadata": {},
   "outputs": [],
   "source": [
    "set_weather_tool = {\n",
    "  \"type\": \"function\",\n",
    "  \"name\": \"set_weather\",\n",
    "  \"description\": \"Sets the temperature for a specified city.\",\n",
    "  \"parameters\": {\n",
    "    \"type\": \"object\",\n",
    "    \"properties\": {\n",
    "      \"city\": {\n",
    "        \"type\": \"string\",\n",
    "        \"description\": \"The name of the city, e.g. New York\"\n",
    "      },\n",
    "      \"temp\": {\n",
    "        \"type\": \"number\",\n",
    "        \"description\": \"The temperature to associate with the city, e.g. 20\"\n",
    "      }\n",
    "    },\n",
    "    \"required\": [\"city\", \"temp\"],\n",
    "    \"additionalProperties\": False\n",
    "  }\n",
    "}"
   ]
  },
  {
   "cell_type": "markdown",
   "id": "b0872877",
   "metadata": {},
   "source": [
    "### Q3. Install FastMCP\n",
    "What's the version of FastMCP you installed?"
   ]
  },
  {
   "cell_type": "code",
   "execution_count": 3,
   "id": "fdd9f025",
   "metadata": {},
   "outputs": [
    {
     "data": {
      "text/plain": [
       "'2.10.5'"
      ]
     },
     "execution_count": 3,
     "metadata": {},
     "output_type": "execute_result"
    }
   ],
   "source": [
    "import fastmcp\n",
    "\n",
    "fastmcp.__version__"
   ]
  },
  {
   "cell_type": "markdown",
   "id": "20b70c16",
   "metadata": {},
   "source": [
    "### Answer: 2.10.5"
   ]
  },
  {
   "cell_type": "markdown",
   "id": "2d48152e",
   "metadata": {},
   "source": [
    "### Q4. Simple MCP Server\n",
    "What do you see in the output?\n",
    "\n",
    "Look for a string that matches this template:\n",
    "\n",
    "```Starting MCP server 'Demo 🚀' with transport '<TODO>'```\n",
    "\n",
    "What do you have instead of <TODO>?\n",
    "\n"
   ]
  },
  {
   "cell_type": "markdown",
   "id": "44778351",
   "metadata": {},
   "source": [
    "### Answer: ```Starting MCP server 'Demo 🚀' with transport 'stdio'```"
   ]
  },
  {
   "cell_type": "markdown",
   "id": "7601129e",
   "metadata": {},
   "source": [
    "### Q5. Protocol\n",
    "There are different ways to communicate with an MCP server. Ours is currently running using standart input/output, which means that the client write something to stdin and read the answer using stdout.\n",
    "\n",
    "Let's ask the temperature in Berlin:\n",
    "\n",
    "```{\"jsonrpc\": \"2.0\", \"id\": 3, \"method\": \"tools/call\", \"params\": {\"name\": \"<TODO>\", \"arguments\": {<TODO>}}}```\n",
    "\n",
    "What did you get in response?"
   ]
  },
  {
   "cell_type": "markdown",
   "id": "e0539f93",
   "metadata": {},
   "source": [
    "```{\"jsonrpc\": \"2.0\", \"id\": 3, \"method\": \"tools/call\", \"params\": {\"name\": \"get_weather\", \"arguments\": { \"city\": \"Berlin\" } } }```"
   ]
  },
  {
   "cell_type": "markdown",
   "id": "de0fc619",
   "metadata": {},
   "source": [
    "### Answer: \n",
    "```{\"jsonrpc\":\"2.0\",\"id\":3,\"result\":{\"content\":[{\"type\":\"text\",\"text\":\"20.0\"}],\"structuredContent\":{\"result\":20.0},\"isError\":false}}```"
   ]
  },
  {
   "cell_type": "markdown",
   "id": "d9fc8930",
   "metadata": {},
   "source": [
    "### Q6. Client\n",
    "We typically don't interact with the server by copy-pasting commands in the terminal.\n",
    "\n",
    "In practice, we use an MCP Client. Let's implement it.\n",
    "\n",
    "Use the client to get the list of available tools of our script. How does the result look like?"
   ]
  },
  {
   "cell_type": "code",
   "execution_count": 18,
   "id": "2a673d56",
   "metadata": {},
   "outputs": [
    {
     "data": {
      "text/plain": [
       "[Tool(name='get_weather', title=None, description='Retrieves the temperature for a specified city.\\n\\nParameters:\\n    city (str): The name of the city for which to retrieve weather data.\\n\\nReturns:\\n    float: The temperature associated with the city.', inputSchema={'properties': {'city': {'title': 'City', 'type': 'string'}}, 'required': ['city'], 'type': 'object'}, outputSchema={'properties': {'result': {'title': 'Result', 'type': 'number'}}, 'required': ['result'], 'title': '_WrappedResult', 'type': 'object', 'x-fastmcp-wrap-result': True}, annotations=None, meta=None),\n",
       " Tool(name='set_weather', title=None, description=\"Sets the temperature for a specified city.\\n\\nParameters:\\n    city (str): The name of the city for which to set the weather data.\\n    temp (float): The temperature to associate with the city.\\n\\nReturns:\\n    str: A confirmation string 'OK' indicating successful update.\", inputSchema={'properties': {'city': {'title': 'City', 'type': 'string'}, 'temp': {'title': 'Temp', 'type': 'number'}}, 'required': ['city', 'temp'], 'type': 'object'}, outputSchema=None, annotations=None, meta=None)]"
      ]
     },
     "execution_count": 18,
     "metadata": {},
     "output_type": "execute_result"
    }
   ],
   "source": [
    "from fastmcp import Client\n",
    "import server\n",
    "import json\n",
    "\n",
    "async def main():\n",
    "  async with Client(server.mcp) as mcp_client:\n",
    "    return await mcp_client.list_tools()\n",
    "\n",
    "tool_list = await main()\n",
    "\n",
    "tool_list"
   ]
  },
  {
   "cell_type": "markdown",
   "id": "2d31a99b",
   "metadata": {},
   "source": [
    "### Answer: \n",
    "```\n",
    "[Tool(name='get_weather', title=None, description='Retrieves the temperature for a specified city.\\n\\nParameters:\\n    city (str): The name of the city for which to retrieve weather data.\\n\\nReturns:\\n    float: The temperature associated with the city.', inputSchema={'properties': {'city': {'title': 'City', 'type': 'string'}}, 'required': ['city'], 'type': 'object'}, outputSchema={'properties': {'result': {'title': 'Result', 'type': 'number'}}, 'required': ['result'], 'title': '_WrappedResult', 'type': 'object', 'x-fastmcp-wrap-result': True}, annotations=None, meta=None),\n",
    " Tool(name='set_weather', title=None, description=\"Sets the temperature for a specified city.\\n\\nParameters:\\n    city (str): The name of the city for which to set the weather data.\\n    temp (float): The temperature to associate with the city.\\n\\nReturns:\\n    str: A confirmation string 'OK' indicating successful update.\", inputSchema={'properties': {'city': {'title': 'City', 'type': 'string'}, 'temp': {'title': 'Temp', 'type': 'number'}}, 'required': ['city', 'temp'], 'type': 'object'}, outputSchema=None, annotations=None, meta=None)]\n",
    "```"
   ]
  }
 ],
 "metadata": {
  "kernelspec": {
   "display_name": "Python 3",
   "language": "python",
   "name": "python3"
  },
  "language_info": {
   "codemirror_mode": {
    "name": "ipython",
    "version": 3
   },
   "file_extension": ".py",
   "mimetype": "text/x-python",
   "name": "python",
   "nbconvert_exporter": "python",
   "pygments_lexer": "ipython3",
   "version": "3.11.9"
  }
 },
 "nbformat": 4,
 "nbformat_minor": 5
}
