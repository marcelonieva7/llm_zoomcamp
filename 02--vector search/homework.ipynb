{
 "cells": [
  {
   "cell_type": "markdown",
   "id": "8a4416dd",
   "metadata": {},
   "source": [
    "# Module 2 | Homework Solution"
   ]
  },
  {
   "cell_type": "markdown",
   "id": "9820f78c",
   "metadata": {},
   "source": [
    "## Q1. Embedding the query\n",
    "Embed the query: 'I just discovered the course. Can I join now?'. Use the 'jinaai/jina-embeddings-v2-small-en' model.\n",
    "\n",
    "You should get a numpy array of size 512.\n",
    "\n",
    "What's the minimal value in this array?"
   ]
  },
  {
   "cell_type": "code",
   "execution_count": 21,
   "id": "0ebd4cfd",
   "metadata": {},
   "outputs": [],
   "source": [
    "from fastembed import TextEmbedding\n",
    "import numpy as np"
   ]
  },
  {
   "cell_type": "code",
   "execution_count": 3,
   "id": "d0125482",
   "metadata": {},
   "outputs": [],
   "source": [
    "query = 'I just discovered the course. Can I join now?'\n",
    "model = TextEmbedding(model_name='jinaai/jina-embeddings-v2-small-en')\n",
    "embedding_query = list(model.embed(query))[0]"
   ]
  },
  {
   "cell_type": "code",
   "execution_count": 4,
   "id": "956e5bfe",
   "metadata": {},
   "outputs": [
    {
     "data": {
      "text/plain": [
       "(512,)"
      ]
     },
     "execution_count": 4,
     "metadata": {},
     "output_type": "execute_result"
    }
   ],
   "source": [
    "embedding_query.shape"
   ]
  },
  {
   "cell_type": "code",
   "execution_count": 5,
   "id": "3d327f87",
   "metadata": {},
   "outputs": [
    {
     "data": {
      "text/plain": [
       "np.float64(-0.11726373885183883)"
      ]
     },
     "execution_count": 5,
     "metadata": {},
     "output_type": "execute_result"
    }
   ],
   "source": [
    "#What's the minimal value in this array?\n",
    "embedding_query.min()"
   ]
  },
  {
   "cell_type": "markdown",
   "id": "cacb1201",
   "metadata": {},
   "source": [
    "## Q2. Cosine similarity with another vector"
   ]
  },
  {
   "cell_type": "markdown",
   "id": "48ff4cb9",
   "metadata": {},
   "source": [
    "Now let's embed this document:\n",
    "```python\n",
    "doc = 'Can I still join the course after the start date?'\n",
    "```\n",
    "\n",
    "What's the cosine similarity between the vector for the query and the vector for the document?"
   ]
  },
  {
   "cell_type": "code",
   "execution_count": 6,
   "id": "3ef69ef4",
   "metadata": {},
   "outputs": [],
   "source": [
    "doc = 'Can I still join the course after the start date?'"
   ]
  },
  {
   "cell_type": "code",
   "execution_count": 9,
   "id": "e6c0c090",
   "metadata": {},
   "outputs": [
    {
     "data": {
      "text/plain": [
       "(512,)"
      ]
     },
     "execution_count": 9,
     "metadata": {},
     "output_type": "execute_result"
    }
   ],
   "source": [
    "doc_embedding = list(model.embed(doc))[0]\n",
    "doc_embedding.shape"
   ]
  },
  {
   "cell_type": "code",
   "execution_count": 10,
   "id": "3b8ba47b",
   "metadata": {},
   "outputs": [
    {
     "data": {
      "text/plain": [
       "np.float64(0.9008528895674548)"
      ]
     },
     "execution_count": 10,
     "metadata": {},
     "output_type": "execute_result"
    }
   ],
   "source": [
    "embedding_query.dot(doc_embedding)"
   ]
  },
  {
   "cell_type": "markdown",
   "id": "07becc04",
   "metadata": {},
   "source": [
    "### Answer 2: 0.90"
   ]
  },
  {
   "cell_type": "markdown",
   "id": "4f4b52f8",
   "metadata": {},
   "source": [
    "## Q3. Ranking by cosine similarity"
   ]
  },
  {
   "cell_type": "markdown",
   "id": "9dd7d7c1",
   "metadata": {},
   "source": [
    "Compute the embeddings for the text field, and compute the cosine between the query vector and all the documents.\n",
    "\n",
    "What's the document index with the highest similarity? (Indexing starts from 0)"
   ]
  },
  {
   "cell_type": "code",
   "execution_count": 11,
   "id": "e0874238",
   "metadata": {},
   "outputs": [],
   "source": [
    "documents = [{'text': \"Yes, even if you don't register, you're still eligible to submit the homeworks.\\nBe aware, however, that there will be deadlines for turning in the final projects. So don't leave everything for the last minute.\",\n",
    "  'section': 'General course-related questions',\n",
    "  'question': 'Course - Can I still join the course after the start date?',\n",
    "  'course': 'data-engineering-zoomcamp'},\n",
    " {'text': 'Yes, we will keep all the materials after the course finishes, so you can follow the course at your own pace after it finishes.\\nYou can also continue looking at the homeworks and continue preparing for the next cohort. I guess you can also start working on your final capstone project.',\n",
    "  'section': 'General course-related questions',\n",
    "  'question': 'Course - Can I follow the course after it finishes?',\n",
    "  'course': 'data-engineering-zoomcamp'},\n",
    " {'text': \"The purpose of this document is to capture frequently asked technical questions\\nThe exact day and hour of the course will be 15th Jan 2024 at 17h00. The course will start with the first  “Office Hours'' live.1\\nSubscribe to course public Google Calendar (it works from Desktop only).\\nRegister before the course starts using this link.\\nJoin the course Telegram channel with announcements.\\nDon’t forget to register in DataTalks.Club's Slack and join the channel.\",\n",
    "  'section': 'General course-related questions',\n",
    "  'question': 'Course - When will the course start?',\n",
    "  'course': 'data-engineering-zoomcamp'},\n",
    " {'text': 'You can start by installing and setting up all the dependencies and requirements:\\nGoogle cloud account\\nGoogle Cloud SDK\\nPython 3 (installed with Anaconda)\\nTerraform\\nGit\\nLook over the prerequisites and syllabus to see if you are comfortable with these subjects.',\n",
    "  'section': 'General course-related questions',\n",
    "  'question': 'Course - What can I do before the course starts?',\n",
    "  'course': 'data-engineering-zoomcamp'},\n",
    " {'text': 'Star the repo! Share it with friends if you find it useful ❣️\\nCreate a PR if you see you can improve the text or the structure of the repository.',\n",
    "  'section': 'General course-related questions',\n",
    "  'question': 'How can we contribute to the course?',\n",
    "  'course': 'data-engineering-zoomcamp'}]"
   ]
  },
  {
   "cell_type": "code",
   "execution_count": 22,
   "id": "672b27d2",
   "metadata": {},
   "outputs": [],
   "source": [
    "documents_embeddings = np.array([list(model.embed(doc['text']))[0] for doc in documents])"
   ]
  },
  {
   "cell_type": "code",
   "execution_count": 24,
   "id": "6b4ab4af",
   "metadata": {},
   "outputs": [
    {
     "data": {
      "text/plain": [
       "np.int64(1)"
      ]
     },
     "execution_count": 24,
     "metadata": {},
     "output_type": "execute_result"
    }
   ],
   "source": [
    "embedding_query.dot(documents_embeddings.T).argmax()"
   ]
  },
  {
   "cell_type": "markdown",
   "id": "4a77e204",
   "metadata": {},
   "source": [
    "### Answer 3: 1"
   ]
  },
  {
   "cell_type": "markdown",
   "id": "10b1e748",
   "metadata": {},
   "source": [
    "## Q4. Ranking by cosine, version two\n",
    "Now let's calculate a new field, which is a concatenation of question and text:\n",
    "\n",
    "```python\n",
    "full_text = doc['question'] + ' ' + doc['text']\n",
    "```\n",
    "Embed this field and compute the cosine between it and the query vector. What's the highest scoring document?"
   ]
  },
  {
   "cell_type": "code",
   "execution_count": null,
   "id": "ff658608",
   "metadata": {},
   "outputs": [],
   "source": [
    "doc_embeddings = np.array([list(model.embed(doc['question'] + ' ' + doc['text']))[0] for doc in documents])"
   ]
  },
  {
   "cell_type": "code",
   "execution_count": 26,
   "id": "287104ab",
   "metadata": {},
   "outputs": [
    {
     "data": {
      "text/plain": [
       "np.int64(0)"
      ]
     },
     "execution_count": 26,
     "metadata": {},
     "output_type": "execute_result"
    }
   ],
   "source": [
    "\n",
    "embedding_query.dot(doc_embeddings.T).argmax()"
   ]
  },
  {
   "cell_type": "markdown",
   "id": "3a2b148b",
   "metadata": {},
   "source": [
    "is different from 3 because the question and the text are now part of the same vector.\n",
    "\n",
    "### Answer 4: 0"
   ]
  },
  {
   "cell_type": "markdown",
   "id": "9e5df75b",
   "metadata": {},
   "source": [
    "## Q5. Selecting the embedding model\n",
    "Now let's select a smaller embedding model. What's the smallest dimensionality for models in fastembed?"
   ]
  },
  {
   "cell_type": "code",
   "execution_count": 30,
   "id": "6389b98d",
   "metadata": {},
   "outputs": [],
   "source": [
    "import json"
   ]
  },
  {
   "cell_type": "code",
   "execution_count": 42,
   "id": "cf56b6b0",
   "metadata": {},
   "outputs": [
    {
     "name": "stdout",
     "output_type": "stream",
     "text": [
      "384\n"
     ]
    }
   ],
   "source": [
    "models = TextEmbedding.list_supported_models()\n",
    "models.sort(key=lambda x: x['dim'])\n",
    "print(models[0]['dim'])"
   ]
  },
  {
   "cell_type": "markdown",
   "id": "18e087e0",
   "metadata": {},
   "source": [
    "### Answer 5: 384"
   ]
  },
  {
   "cell_type": "markdown",
   "id": "07e675b4",
   "metadata": {},
   "source": [
    "## Q6. Indexing with qdrant (2 points)\n",
    "For the last question, we will use more documents.\n",
    "\n",
    "We will select only FAQ records from our ml zoomcamp:\n",
    "\n",
    "```python\n",
    "import requests \n",
    "\n",
    "docs_url = 'https://github.com/alexeygrigorev/llm-rag-workshop/raw/main/notebooks/documents.json'\n",
    "docs_response = requests.get(docs_url)\n",
    "documents_raw = docs_response.json()\n",
    "\n",
    "\n",
    "documents = []\n",
    "\n",
    "for course in documents_raw:\n",
    "    course_name = course['course']\n",
    "    if course_name != 'machine-learning-zoomcamp':\n",
    "        continue\n",
    "\n",
    "    for doc in course['documents']:\n",
    "        doc['course'] = course_name\n",
    "        documents.append(doc)\n",
    "```\n",
    "\n",
    "Add them to qdrant using the model form Q5.\n",
    "\n",
    "When adding the data, use both question and answer fields:\n",
    "\n",
    "```python\n",
    "text = doc['question'] + ' ' + doc['text']\n",
    "```\n",
    "After the data is inserted, use the question from Q1 for querying the collection.\n",
    "\n",
    "What's the highest score in the results? (The score for the first returned record):\n",
    "\n"
   ]
  },
  {
   "cell_type": "code",
   "execution_count": 68,
   "id": "e04afe5d",
   "metadata": {},
   "outputs": [
    {
     "data": {
      "text/plain": [
       "{'text': \"Should we perform EDA on the base of train or train+validation or train+validation+test dataset?\\nIt's indeed good practice to only rely on the train dataset for EDA. Including validation might be okay. But we aren't supposed to touch the test dataset, even just looking at it isn't a good idea. We indeed pretend that this is the future unseen data\\nAlena Kniazeva\",\n",
       " 'section': '3. Machine Learning for Classification',\n",
       " 'question': 'What data should be used for EDA?',\n",
       " 'course': 'machine-learning-zoomcamp'}"
      ]
     },
     "execution_count": 68,
     "metadata": {},
     "output_type": "execute_result"
    }
   ],
   "source": [
    "import requests \n",
    "\n",
    "docs_url = 'https://github.com/alexeygrigorev/llm-rag-workshop/raw/main/notebooks/documents.json'\n",
    "docs_response = requests.get(docs_url)\n",
    "documents_raw = docs_response.json()\n",
    "\n",
    "\n",
    "documents = []\n",
    "\n",
    "for course in documents_raw:\n",
    "    course_name = course['course']\n",
    "    if course_name != 'machine-learning-zoomcamp':\n",
    "        continue\n",
    "\n",
    "    for doc in course['documents']:\n",
    "        doc['course'] = course_name\n",
    "        documents.append(doc)\n",
    "\n",
    "documents[93]"
   ]
  },
  {
   "cell_type": "code",
   "execution_count": 47,
   "id": "3e3d5d21",
   "metadata": {},
   "outputs": [],
   "source": [
    "from qdrant_client import QdrantClient, models\n",
    "\n",
    "# Initialize the client\n",
    "client = QdrantClient(\":memory:\")"
   ]
  },
  {
   "cell_type": "code",
   "execution_count": 48,
   "id": "978cd147",
   "metadata": {},
   "outputs": [
    {
     "name": "stderr",
     "output_type": "stream",
     "text": [
      "Fetching 5 files: 100%|██████████| 5/5 [03:49<00:00, 45.90s/it] \n"
     ]
    }
   ],
   "source": [
    "client.set_model(\"BAAI/bge-small-en\")"
   ]
  },
  {
   "cell_type": "code",
   "execution_count": 73,
   "id": "193b2bc1",
   "metadata": {},
   "outputs": [
    {
     "data": {
      "text/plain": [
       "True"
      ]
     },
     "execution_count": 73,
     "metadata": {},
     "output_type": "execute_result"
    }
   ],
   "source": [
    "collection_name = \"mlzoomcamp-rag\"\n",
    "\n",
    "client.create_collection(\n",
    "    collection_name=collection_name,\n",
    "    vectors_config=models.VectorParams(\n",
    "        size=384,\n",
    "        distance=models.Distance.COSINE\n",
    "    )\n",
    ")"
   ]
  },
  {
   "cell_type": "code",
   "execution_count": 69,
   "id": "ce34082c",
   "metadata": {},
   "outputs": [],
   "source": [
    "points = []\n",
    "id = 0\n",
    "\n",
    "for doc in documents:\n",
    "  point = models.PointStruct(\n",
    "    id=id,\n",
    "    vector=models.Document(text=doc['question'] + ' ' + doc['text'], model=\"BAAI/bge-small-en\"),\n",
    "    payload={\n",
    "      \"text\": doc['text'],\n",
    "      \"section\": doc['section'],\n",
    "      \"course\": doc['course'],\n",
    "      \"question\": doc['question']\n",
    "    } #save all needed metadata fields\n",
    "  )\n",
    "  points.append(point)\n",
    "\n",
    "  id += 1"
   ]
  },
  {
   "cell_type": "code",
   "execution_count": 74,
   "id": "6ac12617",
   "metadata": {},
   "outputs": [
    {
     "data": {
      "text/plain": [
       "UpdateResult(operation_id=0, status=<UpdateStatus.COMPLETED: 'completed'>)"
      ]
     },
     "execution_count": 74,
     "metadata": {},
     "output_type": "execute_result"
    }
   ],
   "source": [
    "client.upsert(\n",
    "    collection_name=collection_name,\n",
    "    points=points\n",
    ")"
   ]
  },
  {
   "cell_type": "code",
   "execution_count": 75,
   "id": "c1a34cd5",
   "metadata": {},
   "outputs": [],
   "source": [
    "def search(query, limit=1):\n",
    "  results = client.query_points(\n",
    "    collection_name=collection_name,\n",
    "    query=models.Document(\n",
    "      text=query,\n",
    "      model=\"BAAI/bge-small-en\"\n",
    "    ),\n",
    "    limit=limit,\n",
    "    with_payload=True\n",
    "  )\n",
    "  return results"
   ]
  },
  {
   "cell_type": "code",
   "execution_count": 76,
   "id": "f8de8f90",
   "metadata": {},
   "outputs": [],
   "source": [
    "query = 'I just discovered the course. Can I join now?'"
   ]
  },
  {
   "cell_type": "code",
   "execution_count": 92,
   "id": "fd29ac50",
   "metadata": {},
   "outputs": [
    {
     "data": {
      "text/plain": [
       "{'points': [{'id': 14,\n",
       "   'version': 0,\n",
       "   'score': 0.8703173344744922,\n",
       "   'payload': {'text': 'Yes, you can. You won’t be able to submit some of the homeworks, but you can still take part in the course.\\nIn order to get a certificate, you need to submit 2 out of 3 course projects and review 3 peers’ Projects by the deadline. It means that if you join the course at the end of November and manage to work on two projects, you will still be eligible for a certificate.',\n",
       "    'section': 'General course-related questions',\n",
       "    'course': 'machine-learning-zoomcamp',\n",
       "    'question': 'The course has already started. Can I still join it?'},\n",
       "   'vector': None,\n",
       "   'shard_key': None,\n",
       "   'order_value': None}]}"
      ]
     },
     "execution_count": 92,
     "metadata": {},
     "output_type": "execute_result"
    }
   ],
   "source": [
    "result = search(query).model_dump_json()\n",
    "json.loads(result)"
   ]
  },
  {
   "cell_type": "markdown",
   "id": "cdf3a117",
   "metadata": {},
   "source": [
    "### Answer 6: 0.87"
   ]
  }
 ],
 "metadata": {
  "kernelspec": {
   "display_name": "Python 3",
   "language": "python",
   "name": "python3"
  },
  "language_info": {
   "codemirror_mode": {
    "name": "ipython",
    "version": 3
   },
   "file_extension": ".py",
   "mimetype": "text/x-python",
   "name": "python",
   "nbconvert_exporter": "python",
   "pygments_lexer": "ipython3",
   "version": "3.11.9"
  }
 },
 "nbformat": 4,
 "nbformat_minor": 5
}
